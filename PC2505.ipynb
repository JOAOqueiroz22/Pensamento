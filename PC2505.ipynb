{
  "nbformat": 4,
  "nbformat_minor": 0,
  "metadata": {
    "colab": {
      "name": "PC2505.ipynb",
      "provenance": [],
      "authorship_tag": "ABX9TyP5l9u4Dgf/4NfjE/pES/6J",
      "include_colab_link": true
    },
    "kernelspec": {
      "name": "python3",
      "display_name": "Python 3"
    },
    "language_info": {
      "name": "python"
    }
  },
  "cells": [
    {
      "cell_type": "markdown",
      "metadata": {
        "id": "view-in-github",
        "colab_type": "text"
      },
      "source": [
        "<a href=\"https://colab.research.google.com/github/JOAOqueiroz22/Pensamento/blob/main/PC2505.ipynb\" target=\"_parent\"><img src=\"https://colab.research.google.com/assets/colab-badge.svg\" alt=\"Open In Colab\"/></a>"
      ]
    },
    {
      "cell_type": "markdown",
      "source": [
        "**Programa que recebe um número e imprime sua tabuada.**"
      ],
      "metadata": {
        "id": "MsBPueaf-4DP"
      }
    },
    {
      "cell_type": "code",
      "execution_count": 23,
      "metadata": {
        "colab": {
          "base_uri": "https://localhost:8080/"
        },
        "id": "qHvQYfBK8bhb",
        "outputId": "d907db73-3905-4f9c-f160-d0d9d3a3f07e"
      },
      "outputs": [
        {
          "output_type": "stream",
          "name": "stdout",
          "text": [
            "Digite um número: 5\n",
            "5 * 1 = 5\n",
            "5 * 2 = 10\n",
            "5 * 3 = 15\n",
            "5 * 4 = 20\n",
            "5 * 5 = 25\n",
            "5 * 6 = 30\n",
            "5 * 7 = 35\n",
            "5 * 8 = 40\n",
            "5 * 9 = 45\n",
            "5 * 10 = 50\n"
          ]
        }
      ],
      "source": [
        "num = int(input(\"Digite um número: \"))\n",
        "\n",
        "for i in range(0,10):\n",
        "  print(f\"{num} * {i+1} = {num * (i+1)}\")"
      ]
    },
    {
      "cell_type": "code",
      "source": [
        "\n",
        "num = int(input(\"Digite um número: \"))\n",
        "vetor = []\n",
        "vetor.append(num)\n",
        "for i in range(1,11):\n",
        "  calc = num * i\n",
        "  print(f\"{num} * {i} = {calc}\")\n",
        "  vetor.append(calc)\n",
        "print(vetor)"
      ],
      "metadata": {
        "colab": {
          "base_uri": "https://localhost:8080/"
        },
        "id": "YiLWWJrr_4Pm",
        "outputId": "748b625f-3cce-4324-83e6-def2e293c8a4"
      },
      "execution_count": 22,
      "outputs": [
        {
          "output_type": "stream",
          "name": "stdout",
          "text": [
            "Digite um número: 5\n",
            "5 * 1 = 5\n",
            "5 * 2 = 10\n",
            "5 * 3 = 15\n",
            "5 * 4 = 20\n",
            "5 * 5 = 25\n",
            "5 * 6 = 30\n",
            "5 * 7 = 35\n",
            "5 * 8 = 40\n",
            "5 * 9 = 45\n",
            "5 * 10 = 50\n",
            "[5, 5, 10, 15, 20, 25, 30, 35, 40, 45, 50]\n"
          ]
        }
      ]
    },
    {
      "cell_type": "code",
      "source": [
        "i = 0\n",
        "num = int(input(\"Digite um número: \"))\n",
        "\n",
        "while i <= 10:\n",
        "  print(num, 'x', i,'=', num*i)\n",
        "  i = i + 1"
      ],
      "metadata": {
        "colab": {
          "base_uri": "https://localhost:8080/"
        },
        "id": "ctwDTkOUBFd3",
        "outputId": "e9429323-0f3e-4854-b56e-eb6b31e39d9f"
      },
      "execution_count": 13,
      "outputs": [
        {
          "output_type": "stream",
          "name": "stdout",
          "text": [
            "Digite um número: 6\n",
            "6 x 0 = 0\n",
            "6 x 1 = 6\n",
            "6 x 2 = 12\n",
            "6 x 3 = 18\n",
            "6 x 4 = 24\n",
            "6 x 5 = 30\n",
            "6 x 6 = 36\n",
            "6 x 7 = 42\n",
            "6 x 8 = 48\n",
            "6 x 9 = 54\n",
            "6 x 10 = 60\n"
          ]
        }
      ]
    },
    {
      "cell_type": "code",
      "source": [
        "while True:\n",
        "num = int(input(\"Digite um número: \"))\n",
        "vetor = []\n",
        "vetor.append(num)\n",
        "for i in range(1,11):\n",
        "  calc = num * i\n",
        "  print(f\"{num} * {i} = {calc}\")\n",
        "  vetor.append(calc)\n",
        "  print(vetor)\n",
        "  \n",
        "\n"
      ],
      "metadata": {
        "id": "oMYyDyK4CjU9"
      },
      "execution_count": null,
      "outputs": []
    },
    {
      "cell_type": "code",
      "source": [
        "lista=[]\n",
        "\n",
        "while True:\n",
        "\n",
        "  nmr = int(input(\"digite o valor desejado\"))\n",
        "\n",
        "  for i in range(0,10):\n",
        "\n",
        "    print(f\"{nmr} * {i +1} = {nmr * (i +1)}\")\n",
        "\n",
        "  continuar = str(input(\"quer continuar? [S/N]\")).upper().strip()[0]\n",
        "\n",
        "  guard = [nmr * 1, nmr * 2, nmr * 3, nmr * 4, nmr * 5, nmr * 6, nmr * 7, nmr * 8, nmr * 9, nmr * 10]\n",
        "\n",
        "  lista.append(guard[:])\n",
        "\n",
        "  if continuar in \"N\":\n",
        "\n",
        "    break\n",
        "\n",
        "print(lista)\n"
      ],
      "metadata": {
        "colab": {
          "base_uri": "https://localhost:8080/"
        },
        "id": "0g6zFSi4D_rT",
        "outputId": "6fae4fbf-3e72-4e87-cc37-9983278a628d"
      },
      "execution_count": 29,
      "outputs": [
        {
          "output_type": "stream",
          "name": "stdout",
          "text": [
            "digite o valor desejado6\n",
            "6 * 1 = 6\n",
            "6 * 2 = 12\n",
            "6 * 3 = 18\n",
            "6 * 4 = 24\n",
            "6 * 5 = 30\n",
            "6 * 6 = 36\n",
            "6 * 7 = 42\n",
            "6 * 8 = 48\n",
            "6 * 9 = 54\n",
            "6 * 10 = 60\n",
            "quer continuar? [S/N]S\n",
            "digite o valor desejado6\n",
            "6 * 1 = 6\n",
            "6 * 2 = 12\n",
            "6 * 3 = 18\n",
            "6 * 4 = 24\n",
            "6 * 5 = 30\n",
            "6 * 6 = 36\n",
            "6 * 7 = 42\n",
            "6 * 8 = 48\n",
            "6 * 9 = 54\n",
            "6 * 10 = 60\n",
            "quer continuar? [S/N]S\n",
            "digite o valor desejado7\n",
            "7 * 1 = 7\n",
            "7 * 2 = 14\n",
            "7 * 3 = 21\n",
            "7 * 4 = 28\n",
            "7 * 5 = 35\n",
            "7 * 6 = 42\n",
            "7 * 7 = 49\n",
            "7 * 8 = 56\n",
            "7 * 9 = 63\n",
            "7 * 10 = 70\n",
            "quer continuar? [S/N]S\n",
            "digite o valor desejado0\n",
            "0 * 1 = 0\n",
            "0 * 2 = 0\n",
            "0 * 3 = 0\n",
            "0 * 4 = 0\n",
            "0 * 5 = 0\n",
            "0 * 6 = 0\n",
            "0 * 7 = 0\n",
            "0 * 8 = 0\n",
            "0 * 9 = 0\n",
            "0 * 10 = 0\n",
            "quer continuar? [S/N]N\n",
            "[[6, 12, 18, 24, 30, 36, 42, 48, 54, 60], [6, 12, 18, 24, 30, 36, 42, 48, 54, 60], [7, 14, 21, 28, 35, 42, 49, 56, 63, 70], [0, 0, 0, 0, 0, 0, 0, 0, 0, 0]]\n"
          ]
        }
      ]
    }
  ]
}