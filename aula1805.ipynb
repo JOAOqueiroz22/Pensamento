{
  "nbformat": 4,
  "nbformat_minor": 0,
  "metadata": {
    "colab": {
      "name": "Untitled0.ipynb",
      "provenance": [],
      "collapsed_sections": [],
      "authorship_tag": "ABX9TyMWOEudkR5Mh0EOgeVV52Kw",
      "include_colab_link": true
    },
    "kernelspec": {
      "name": "python3",
      "display_name": "Python 3"
    },
    "language_info": {
      "name": "python"
    }
  },
  "cells": [
    {
      "cell_type": "markdown",
      "metadata": {
        "id": "view-in-github",
        "colab_type": "text"
      },
      "source": [
        "<a href=\"https://colab.research.google.com/github/JOAOqueiroz22/Pensamento/blob/main/aula1805.ipynb\" target=\"_parent\"><img src=\"https://colab.research.google.com/assets/colab-badge.svg\" alt=\"Open In Colab\"/></a>"
      ]
    },
    {
      "cell_type": "markdown",
      "source": [
        "**Primeiro Programa em Python** "
      ],
      "metadata": {
        "id": "aZoa1ZOBDvg0"
      }
    },
    {
      "cell_type": "code",
      "source": [
        "# testando o ambiente"
      ],
      "metadata": {
        "id": "0LhKnNp-DfmQ"
      },
      "execution_count": null,
      "outputs": []
    },
    {
      "cell_type": "code",
      "source": [
        "a = 10\n",
        "b = 30\n",
        "c = (a + b)\n",
        "\n",
        "print(c)"
      ],
      "metadata": {
        "colab": {
          "base_uri": "https://localhost:8080/"
        },
        "id": "6q23Ar3FEDPE",
        "outputId": "6a7eb3e2-7a37-4e20-c866-c7d171527d0f"
      },
      "execution_count": null,
      "outputs": [
        {
          "output_type": "stream",
          "name": "stdout",
          "text": [
            "40\n"
          ]
        }
      ]
    },
    {
      "cell_type": "code",
      "source": [
        "print(\"O resultado da soma a + b é\",c)"
      ],
      "metadata": {
        "colab": {
          "base_uri": "https://localhost:8080/"
        },
        "id": "CprgVTVaFmXB",
        "outputId": "5c431bf0-7c4f-45c6-941a-0cc705118148"
      },
      "execution_count": null,
      "outputs": [
        {
          "output_type": "stream",
          "name": "stdout",
          "text": [
            "O resultado da soma a + b é 40\n"
          ]
        }
      ]
    },
    {
      "cell_type": "markdown",
      "source": [
        "Programa 01- Objetivo é calcular a média de duas notas lançadas para os alunos e mostrar a média, junto com a situação do aluno, caso o aluno tenha média >= 7 o mesmo será aprovado, senão recuperação."
      ],
      "metadata": {
        "id": "9XR8gfOQFtKA"
      }
    },
    {
      "cell_type": "code",
      "source": [
        "# Leitura de varáveis de notas\n",
        "Nota1 = float(input(\"Digite a primeira nota: \"))\n",
        "Nota2 = float(input(\"Digite a segunda nota: \"))\n",
        "\n",
        "# calcular a média das notas\n",
        "Media = (Nota1 + Nota2) / 2\n",
        "print(\"A média das notas foi: \", Media)\n",
        "\n",
        "# calculando a situação do aluno - Aprovado ou recuperação\n",
        "if (Media >= 7):\n",
        "    print(\"Aluno está aprovado por média!\")\n",
        "else:\n",
        "    print(\"Aluno em recuperação\")"
      ],
      "metadata": {
        "colab": {
          "base_uri": "https://localhost:8080/"
        },
        "id": "VC6ypXs3F-eQ",
        "outputId": "6d331a0c-b08e-497e-a246-b9cadb8a25d7"
      },
      "execution_count": null,
      "outputs": [
        {
          "output_type": "stream",
          "name": "stdout",
          "text": [
            "Digite a primeira nota: 5.6\n",
            "Digite a segunda nota: 7.8\n",
            "A média das notas foi:  6.699999999999999\n",
            "Aluno em recuperação\n"
          ]
        }
      ]
    },
    {
      "cell_type": "markdown",
      "source": [
        "Programa 02 - Objetivo é ler o turno do estudante: Manhã(M), Tarde(T) e Noite(N), exibir uma mensagem de acordo com o turno."
      ],
      "metadata": {
        "id": "HQ6xcrnzJCNj"
      }
    },
    {
      "cell_type": "code",
      "source": [
        "turno = input(\"Digite seu Turno, M para Manhã, T para Tarde e N para Noite: \").upper()\n",
        "\n",
        "if (turno == \"M\"):\n",
        "  print(\"Bom dia, você estuda pela manhã\")\n",
        "elif(turno == \"T\"):\n",
        "  print(\"Boa tarde, você estuda pela tarde\")\n",
        "elif(turno == \"N\"):\n",
        "  print(\"Boa noite, você estuda pela noite\")\n",
        "else:\n",
        "  print(\"Valor inválido\")\n"
      ],
      "metadata": {
        "colab": {
          "base_uri": "https://localhost:8080/"
        },
        "id": "dEzrHwyMJ5-K",
        "outputId": "f64856ed-cc8b-434b-fb96-92279468aa49"
      },
      "execution_count": 13,
      "outputs": [
        {
          "output_type": "stream",
          "name": "stdout",
          "text": [
            "Digite seu Turno, M para Manhã, T para Tarde e N para Noite: n\n",
            "Boa noite, você estuda pela noite\n"
          ]
        }
      ]
    },
    {
      "cell_type": "markdown",
      "source": [
        "Programa 03 - "
      ],
      "metadata": {
        "id": "tpRldeejKtj6"
      }
    },
    {
      "cell_type": "code",
      "source": [
        "atleta =[]\n",
        "while True:\n",
        "  nome = input(\"Digite o nome do atleta(Ou enter para encerrar o programa)\")\n",
        "  if nome == \"\":\n",
        "    break\n",
        "  atleta = {\n",
        "      \"nome\": nome,\n",
        "      \"saltos\": [],\n",
        "      \"media\": 0,\n",
        "      \"melhor_salto\": 0,\n",
        "      \"pior_salto\": 0,\n",
        "  }\n",
        "  for i in range(5):\n",
        "    atleta.get(\"saltos\").append(float(input(f\"Distância do {i+1}º salto: \")))\n",
        "    atleta.get(\"saltos\").sort # ordena a lista de forma automática..\n",
        "    atleta[\"pior_salto\"] = atleta.get(\"saltos\").pop(0)\n",
        "    atleta[\"melhor_salto\"] = atleta.get(\"saltos\").pop(0)\n",
        "    atleta[\"media\"] = sum(atleta.get(\"saltos\")) / 3\n",
        "\n",
        "    print(\n",
        "        f\"\\nMelhor Salto: {atleta.get('melhor_salto'):.1f} m\"\n",
        "        f\"\\nPior Salto: {atleta.get('pior_salto'):.1f} m\"\n",
        "        f\"\\nMedia Salto: {atleta.get('media'):.1f} m\\n\"\n",
        "    )\n",
        "    atleta.append()"
      ],
      "metadata": {
        "colab": {
          "base_uri": "https://localhost:8080/",
          "height": 269
        },
        "id": "kRYiZWujMlxb",
        "outputId": "cd2a423e-46a4-4044-b862-91d67c1624ba"
      },
      "execution_count": 14,
      "outputs": [
        {
          "name": "stdout",
          "output_type": "stream",
          "text": [
            "Digite o nome do atleta(Ou enter para encerrar o programa)Amoedo\n",
            "Distância do 1º salto: 8.8\n"
          ]
        },
        {
          "output_type": "error",
          "ename": "IndexError",
          "evalue": "ignored",
          "traceback": [
            "\u001b[0;31m---------------------------------------------------------------------------\u001b[0m",
            "\u001b[0;31mIndexError\u001b[0m                                Traceback (most recent call last)",
            "\u001b[0;32m<ipython-input-14-08450d98ba65>\u001b[0m in \u001b[0;36m<module>\u001b[0;34m()\u001b[0m\n\u001b[1;32m     15\u001b[0m     \u001b[0matleta\u001b[0m\u001b[0;34m.\u001b[0m\u001b[0mget\u001b[0m\u001b[0;34m(\u001b[0m\u001b[0;34m\"saltos\"\u001b[0m\u001b[0;34m)\u001b[0m\u001b[0;34m.\u001b[0m\u001b[0msort\u001b[0m \u001b[0;31m# ordena a lista de forma automática..\u001b[0m\u001b[0;34m\u001b[0m\u001b[0;34m\u001b[0m\u001b[0m\n\u001b[1;32m     16\u001b[0m     \u001b[0matleta\u001b[0m\u001b[0;34m[\u001b[0m\u001b[0;34m\"pior_salto\"\u001b[0m\u001b[0;34m]\u001b[0m \u001b[0;34m=\u001b[0m \u001b[0matleta\u001b[0m\u001b[0;34m.\u001b[0m\u001b[0mget\u001b[0m\u001b[0;34m(\u001b[0m\u001b[0;34m\"saltos\"\u001b[0m\u001b[0;34m)\u001b[0m\u001b[0;34m.\u001b[0m\u001b[0mpop\u001b[0m\u001b[0;34m(\u001b[0m\u001b[0;36m0\u001b[0m\u001b[0;34m)\u001b[0m\u001b[0;34m\u001b[0m\u001b[0;34m\u001b[0m\u001b[0m\n\u001b[0;32m---> 17\u001b[0;31m     \u001b[0matleta\u001b[0m\u001b[0;34m[\u001b[0m\u001b[0;34m\"melhor_salto\"\u001b[0m\u001b[0;34m]\u001b[0m \u001b[0;34m=\u001b[0m \u001b[0matleta\u001b[0m\u001b[0;34m.\u001b[0m\u001b[0mget\u001b[0m\u001b[0;34m(\u001b[0m\u001b[0;34m\"saltos\"\u001b[0m\u001b[0;34m)\u001b[0m\u001b[0;34m.\u001b[0m\u001b[0mpop\u001b[0m\u001b[0;34m(\u001b[0m\u001b[0;36m0\u001b[0m\u001b[0;34m)\u001b[0m\u001b[0;34m\u001b[0m\u001b[0;34m\u001b[0m\u001b[0m\n\u001b[0m\u001b[1;32m     18\u001b[0m     \u001b[0matleta\u001b[0m\u001b[0;34m[\u001b[0m\u001b[0;34m\"media\"\u001b[0m\u001b[0;34m]\u001b[0m \u001b[0;34m=\u001b[0m \u001b[0msum\u001b[0m\u001b[0;34m(\u001b[0m\u001b[0matleta\u001b[0m\u001b[0;34m.\u001b[0m\u001b[0mget\u001b[0m\u001b[0;34m(\u001b[0m\u001b[0;34m\"saltos\"\u001b[0m\u001b[0;34m)\u001b[0m\u001b[0;34m)\u001b[0m \u001b[0;34m/\u001b[0m \u001b[0;36m3\u001b[0m\u001b[0;34m\u001b[0m\u001b[0;34m\u001b[0m\u001b[0m\n\u001b[1;32m     19\u001b[0m \u001b[0;34m\u001b[0m\u001b[0m\n",
            "\u001b[0;31mIndexError\u001b[0m: pop from empty list"
          ]
        }
      ]
    }
  ]
}