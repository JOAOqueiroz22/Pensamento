{
  "nbformat": 4,
  "nbformat_minor": 0,
  "metadata": {
    "colab": {
      "name": "Untitled0.ipynb",
      "provenance": [],
      "collapsed_sections": [],
      "authorship_tag": "ABX9TyO6Ul9o4swRNLBiO6S1OoMY",
      "include_colab_link": true
    },
    "kernelspec": {
      "name": "python3",
      "display_name": "Python 3"
    },
    "language_info": {
      "name": "python"
    }
  },
  "cells": [
    {
      "cell_type": "markdown",
      "metadata": {
        "id": "view-in-github",
        "colab_type": "text"
      },
      "source": [
        "<a href=\"https://colab.research.google.com/github/JOAOqueiroz22/Pensamento/blob/main/correto1805.ipynb\" target=\"_parent\"><img src=\"https://colab.research.google.com/assets/colab-badge.svg\" alt=\"Open In Colab\"/></a>"
      ]
    },
    {
      "cell_type": "markdown",
      "source": [
        "**Primeiro Programa em Python** "
      ],
      "metadata": {
        "id": "aZoa1ZOBDvg0"
      }
    },
    {
      "cell_type": "code",
      "source": [
        "# testando o ambiente"
      ],
      "metadata": {
        "id": "0LhKnNp-DfmQ"
      },
      "execution_count": null,
      "outputs": []
    },
    {
      "cell_type": "code",
      "source": [
        "a = 10\n",
        "b = 30\n",
        "c = (a + b)\n",
        "\n",
        "print(c)"
      ],
      "metadata": {
        "colab": {
          "base_uri": "https://localhost:8080/"
        },
        "id": "6q23Ar3FEDPE",
        "outputId": "6a7eb3e2-7a37-4e20-c866-c7d171527d0f"
      },
      "execution_count": null,
      "outputs": [
        {
          "output_type": "stream",
          "name": "stdout",
          "text": [
            "40\n"
          ]
        }
      ]
    },
    {
      "cell_type": "code",
      "source": [
        "print(\"O resultado da soma a + b é\",c)"
      ],
      "metadata": {
        "colab": {
          "base_uri": "https://localhost:8080/"
        },
        "id": "CprgVTVaFmXB",
        "outputId": "5c431bf0-7c4f-45c6-941a-0cc705118148"
      },
      "execution_count": null,
      "outputs": [
        {
          "output_type": "stream",
          "name": "stdout",
          "text": [
            "O resultado da soma a + b é 40\n"
          ]
        }
      ]
    },
    {
      "cell_type": "markdown",
      "source": [
        "Programa 01- Objetivo é calcular a média de duas notas lançadas para os alunos e mostrar a média, junto com a situação do aluno, caso o aluno tenha média >= 7 o mesmo será aprovado, senão recuperação."
      ],
      "metadata": {
        "id": "9XR8gfOQFtKA"
      }
    },
    {
      "cell_type": "code",
      "source": [
        "# Leitura de varáveis de notas\n",
        "Nota1 = float(input(\"Digite a primeira nota: \"))\n",
        "Nota2 = float(input(\"Digite a segunda nota: \"))\n",
        "\n",
        "# calcular a média das notas\n",
        "Media = (Nota1 + Nota2) / 2\n",
        "print(\"A média das notas foi: \", Media)\n",
        "\n",
        "# calculando a situação do aluno - Aprovado ou recuperação\n",
        "if (Media >= 7):\n",
        "    print(\"Aluno está aprovado por média!\")\n",
        "else:\n",
        "    print(\"Aluno em recuperação\")"
      ],
      "metadata": {
        "colab": {
          "base_uri": "https://localhost:8080/"
        },
        "id": "VC6ypXs3F-eQ",
        "outputId": "6d331a0c-b08e-497e-a246-b9cadb8a25d7"
      },
      "execution_count": null,
      "outputs": [
        {
          "output_type": "stream",
          "name": "stdout",
          "text": [
            "Digite a primeira nota: 5.6\n",
            "Digite a segunda nota: 7.8\n",
            "A média das notas foi:  6.699999999999999\n",
            "Aluno em recuperação\n"
          ]
        }
      ]
    },
    {
      "cell_type": "markdown",
      "source": [
        "Programa 02 - Objetivo é ler o turno do estudante: Manhã(M), Tarde(T) e Noite(N), exibir uma mensagem de acordo com o turno."
      ],
      "metadata": {
        "id": "HQ6xcrnzJCNj"
      }
    },
    {
      "cell_type": "code",
      "source": [
        "turno = input(\"Digite seu Turno, M para Manhã, T para Tarde e N para Noite: \").upper()\n",
        "\n",
        "if (turno == \"M\"):\n",
        "  print(\"Bom dia, você estuda pela manhã\")\n",
        "elif(turno == \"T\"):\n",
        "  print(\"Boa tarde, você estuda pela tarde\")\n",
        "elif(turno == \"N\"):\n",
        "  print(\"Boa noite, você estuda pela noite\")\n",
        "else:\n",
        "  print(\"Valor inválido\")\n"
      ],
      "metadata": {
        "colab": {
          "base_uri": "https://localhost:8080/"
        },
        "id": "dEzrHwyMJ5-K",
        "outputId": "f64856ed-cc8b-434b-fb96-92279468aa49"
      },
      "execution_count": 13,
      "outputs": [
        {
          "output_type": "stream",
          "name": "stdout",
          "text": [
            "Digite seu Turno, M para Manhã, T para Tarde e N para Noite: n\n",
            "Boa noite, você estuda pela noite\n"
          ]
        }
      ]
    },
    {
      "cell_type": "markdown",
      "source": [
        "Programa 03 - "
      ],
      "metadata": {
        "id": "tpRldeejKtj6"
      }
    },
    {
      "cell_type": "code",
      "source": [
        "atletas = []\n",
        "\n",
        "while True:\n",
        "\n",
        "    nome = input(\n",
        "\n",
        "        \"Digite o nome do atleta (ou enter para encerrar o programa): \"\n",
        "\n",
        "    )\n",
        "\n",
        "    if nome == \"\":\n",
        "\n",
        "        break\n",
        "\n",
        "    atleta = {\n",
        "\n",
        "        \"nome\": nome,\n",
        "\n",
        "        \"saltos\": [],\n",
        "\n",
        "        \"media\": 0,\n",
        "\n",
        "        \"melhor_salto\": 0,\n",
        "\n",
        "        \"pior_salto\": 0,\n",
        "\n",
        "    }\n",
        "\n",
        "    for i in range(5):\n",
        "\n",
        "        atleta.get(\"saltos\").append(\n",
        "\n",
        "            float(input(f\"Distância do {i+1}º salto: \"))\n",
        "\n",
        "        )\n",
        "\n",
        "    atleta.get(\"saltos\").sort()  # ? Ordena a lista\n",
        "\n",
        "    atleta[\"pior_salto\"] = atleta.get(\"saltos\").pop(0)\n",
        "\n",
        "    atleta[\"melhor_salto\"] = atleta.get(\"saltos\").pop()\n",
        "\n",
        "    atleta[\"media\"] = sum(atleta.get(\"saltos\")) / 3\n",
        "\n",
        "    print(\n",
        "\n",
        "        f\"\\nMelhor salto: {atleta.get('melhor_salto'):.1f} m\"\n",
        "\n",
        "        f\"\\nPior salto: {atleta.get('pior_salto'):.1f} m\"\n",
        "\n",
        "        f\"\\nMédia dos demais saltos: {atleta.get('media'):.1f} m\\n\"\n",
        "\n",
        "    )\n",
        "\n",
        "    atletas.append(atleta)\n",
        "\n",
        "\n",
        "\n",
        "print(\"\\n\\nResultado final\")\n",
        "\n",
        "for atleta in atletas:\n",
        "\n",
        "    print(f\"{atleta.get('nome')}: {atleta.get('media'):.1f} m\")"
      ],
      "metadata": {
        "colab": {
          "base_uri": "https://localhost:8080/"
        },
        "id": "E78BYv46Re0l",
        "outputId": "9a84f0a8-22ef-4343-e990-d2293dd24843"
      },
      "execution_count": null,
      "outputs": [
        {
          "output_type": "stream",
          "name": "stdout",
          "text": [
            "Digite o nome do atleta (ou enter para encerrar o programa): Amoedo\n",
            "Distância do 1º salto: 5\n",
            "Distância do 2º salto: 5\n",
            "Distância do 3º salto: 5\n",
            "Distância do 4º salto: 5\n",
            "Distância do 5º salto: 5\n",
            "\n",
            "Melhor salto: 5.0 m\n",
            "Pior salto: 5.0 m\n",
            "Média dos demais saltos: 5.0 m\n",
            "\n"
          ]
        }
      ]
    }
  ]
}