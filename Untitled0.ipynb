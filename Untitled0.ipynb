{
  "nbformat": 4,
  "nbformat_minor": 0,
  "metadata": {
    "colab": {
      "name": "Untitled0.ipynb",
      "provenance": [],
      "collapsed_sections": []
    },
    "kernelspec": {
      "name": "python3",
      "display_name": "Python 3"
    },
    "language_info": {
      "name": "python"
    }
  },
  "cells": [
    {
      "cell_type": "markdown",
      "source": [
        "**Primeiro Programa em Python** "
      ],
      "metadata": {
        "id": "aZoa1ZOBDvg0"
      }
    },
    {
      "cell_type": "code",
      "source": [
        "# testando o ambiente"
      ],
      "metadata": {
        "id": "0LhKnNp-DfmQ"
      },
      "execution_count": null,
      "outputs": []
    },
    {
      "cell_type": "code",
      "source": [
        "a = 10\n",
        "b = 30\n",
        "c = (a + b)\n",
        "\n",
        "print(c)"
      ],
      "metadata": {
        "colab": {
          "base_uri": "https://localhost:8080/"
        },
        "id": "6q23Ar3FEDPE",
        "outputId": "6a7eb3e2-7a37-4e20-c866-c7d171527d0f"
      },
      "execution_count": null,
      "outputs": [
        {
          "output_type": "stream",
          "name": "stdout",
          "text": [
            "40\n"
          ]
        }
      ]
    },
    {
      "cell_type": "code",
      "source": [
        "print(\"O resultado da soma a + b é\",c)"
      ],
      "metadata": {
        "colab": {
          "base_uri": "https://localhost:8080/"
        },
        "id": "CprgVTVaFmXB",
        "outputId": "5c431bf0-7c4f-45c6-941a-0cc705118148"
      },
      "execution_count": null,
      "outputs": [
        {
          "output_type": "stream",
          "name": "stdout",
          "text": [
            "O resultado da soma a + b é 40\n"
          ]
        }
      ]
    },
    {
      "cell_type": "markdown",
      "source": [
        "Programa 01- Objetivo é calcular a média de duas notas lançadas para os alunos e mostrar a média, junto com a situação do aluno, caso o aluno tenha média >= 7 o mesmo será aprovado, senão recuperação."
      ],
      "metadata": {
        "id": "9XR8gfOQFtKA"
      }
    },
    {
      "cell_type": "code",
      "source": [
        "# Leitura de varáveis de notas\n",
        "Nota1 = float(input(\"Digite a primeira nota: \"))\n",
        "Nota2 = float(input(\"Digite a segunda nota: \"))\n",
        "\n",
        "# calcular a média das notas\n",
        "Media = (Nota1 + Nota2) / 2\n",
        "print(\"A média das notas foi: \", Media)\n",
        "\n",
        "# calculando a situação do aluno - Aprovado ou recuperação\n",
        "if (Media >= 7):\n",
        "    print(\"Aluno está aprovado por média!\")\n",
        "else:\n",
        "    print(\"Aluno em recuperação\")"
      ],
      "metadata": {
        "colab": {
          "base_uri": "https://localhost:8080/"
        },
        "id": "VC6ypXs3F-eQ",
        "outputId": "6d331a0c-b08e-497e-a246-b9cadb8a25d7"
      },
      "execution_count": null,
      "outputs": [
        {
          "output_type": "stream",
          "name": "stdout",
          "text": [
            "Digite a primeira nota: 5.6\n",
            "Digite a segunda nota: 7.8\n",
            "A média das notas foi:  6.699999999999999\n",
            "Aluno em recuperação\n"
          ]
        }
      ]
    },
    {
      "cell_type": "markdown",
      "source": [
        ""
      ],
      "metadata": {
        "id": "HQ6xcrnzJCNj"
      }
    }
  ]
}